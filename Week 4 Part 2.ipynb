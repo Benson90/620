{
 "cells": [
  {
   "cell_type": "markdown",
   "id": "9ecec694",
   "metadata": {},
   "source": [
    "## Week 4 Part 2 Assignment\n",
    "Group Member:\n",
    "\n",
    "Ahmed Elsaeyed\n",
    "Noah Collin\n",
    "Benson Toi\n",
    "\n",
    "## Project Overview\n",
    "\n",
    "Assignment – High Frequency Words\n",
    "\n",
    "nltk package\n",
    "\n",
    "The Natural Language Toolkit (NLTK) is an open source Python library for Natural Language Processing. A free online book is available. (If you use the library for academic research, please cite the book.)\n",
    "\n",
    "Steven Bird, Ewan Klein, and Edward Loper (2009). Natural Language Processing with Python. O’Reilly Media Inc. https://www.nltk.org/book/\n",
    "\n",
    "\n",
    "\n",
    "## Q1: Choose a corpus of interest.\n",
    "\n",
    "Using Treebank corpus from NLTK https://www.nltk.org/api/nltk.html\n",
    "\n",
    "The Treebank corpora provide a syntactic parse for each sentence.\n",
    "\n"
   ]
  },
  {
   "cell_type": "code",
   "execution_count": 63,
   "id": "50017d00",
   "metadata": {},
   "outputs": [],
   "source": [
    "import nltk\n",
    "\n",
    "import matplotlib.pyplot as plt\n",
    "\n",
    "\n",
    "## nltk.download('treebank') <--- download package\n",
    "from nltk.corpus import treebank \n",
    "import pandas as pd\n",
    "from nltk import FreqDist\n",
    "import matplotlib.pyplot as plt\n",
    "import operator\n",
    "import seaborn as sns\n",
    "%matplotlib inline\n",
    "\n",
    "\n",
    "words = []\n",
    "for fileid in treebank.fileids():\n",
    "    words.extend(treebank.words(fileid))"
   ]
  },
  {
   "cell_type": "markdown",
   "id": "03fb73ac",
   "metadata": {},
   "source": [
    "## Q2: How many total unique words are in the corpus? (Please feel free to define unique words in any interesting, defensible way)."
   ]
  },
  {
   "cell_type": "code",
   "execution_count": 64,
   "id": "8a58f2d3",
   "metadata": {},
   "outputs": [
    {
     "data": {
      "text/plain": [
       "100676"
      ]
     },
     "execution_count": 64,
     "metadata": {},
     "output_type": "execute_result"
    }
   ],
   "source": [
    "words=[s.lower() for s in words]\n",
    "len(words)"
   ]
  },
  {
   "cell_type": "code",
   "execution_count": 75,
   "id": "5ff776a7",
   "metadata": {},
   "outputs": [
    {
     "name": "stdout",
     "output_type": "stream",
     "text": [
      "<BracketParseCorpusReader in '/Users/benson/nltk_data/corpora/treebank/combined'>\n"
     ]
    }
   ],
   "source": [
    "print(treebank)"
   ]
  },
  {
   "cell_type": "code",
   "execution_count": 65,
   "id": "44e51ae7",
   "metadata": {},
   "outputs": [
    {
     "name": "stdout",
     "output_type": "stream",
     "text": [
      "['Pierre', 'Vinken', ',', '61', 'years', 'old', ',', ...]\n"
     ]
    }
   ],
   "source": [
    "print(treebank.words())"
   ]
  },
  {
   "cell_type": "code",
   "execution_count": 66,
   "id": "9728e163",
   "metadata": {},
   "outputs": [
    {
     "name": "stdout",
     "output_type": "stream",
     "text": [
      "11387\n"
     ]
    }
   ],
   "source": [
    "#all words include non-english\n",
    "unique_words = set(words)\n",
    "print (len(unique_words))"
   ]
  },
  {
   "cell_type": "code",
   "execution_count": 67,
   "id": "c2b31028",
   "metadata": {},
   "outputs": [
    {
     "data": {
      "text/plain": [
       "8989"
      ]
     },
     "execution_count": 67,
     "metadata": {},
     "output_type": "execute_result"
    }
   ],
   "source": [
    "# strip punctuation and numerics using isalpha() method\n",
    "unique_words = [w for w in unique_words if w.isalpha()]\n",
    "# strip out stop words\n",
    "\n",
    "# nltk.download('stopwords')\n",
    "from nltk.corpus import stopwords\n",
    "unique_words = [w for w in unique_words if w not in stopwords.words('english')]\n",
    "\n",
    "\n",
    "# How many total unique set of real words are in the corpus\n",
    "len(set(unique_words))\n"
   ]
  },
  {
   "cell_type": "markdown",
   "id": "794f1979",
   "metadata": {},
   "source": [
    "## Q3: Taking the most common words, how many unique words represent half of the total words in the corpus?"
   ]
  },
  {
   "cell_type": "code",
   "execution_count": 68,
   "id": "bde2333e",
   "metadata": {},
   "outputs": [],
   "source": [
    "# build the frequency distribution using FreqDist()\n",
    "words = [w for w in words if w.isalpha()]\n",
    "from nltk.corpus import stopwords\n",
    "words = [w for w in words if w not in stopwords.words('english')]\n",
    "\n",
    "freq_words = nltk.FreqDist(words)"
   ]
  },
  {
   "cell_type": "code",
   "execution_count": 69,
   "id": "b168391a",
   "metadata": {},
   "outputs": [
    {
     "data": {
      "text/plain": [
       "641"
      ]
     },
     "execution_count": 69,
     "metadata": {},
     "output_type": "execute_result"
    }
   ],
   "source": [
    "# make a dataframe to produce relative frequencies - all common words\n",
    "freq_words_all = pd.DataFrame(freq_words.most_common(10000),columns=['word','count'])\n",
    "freq_words_all['rel_freq'] = freq_words_all['count']/float(len(words))\n",
    "freq_words_all['Cum_Sum_rel_freq'] = freq_words_all['rel_freq'].cumsum()\n",
    "\n",
    "#get most common words that make up 50 percent of the total words\n",
    "len(freq_words_all[freq_words_all['Cum_Sum_rel_freq']<0.5])"
   ]
  },
  {
   "cell_type": "code",
   "execution_count": 70,
   "id": "f73f01ab",
   "metadata": {},
   "outputs": [
    {
     "data": {
      "text/html": [
       "<div>\n",
       "<style scoped>\n",
       "    .dataframe tbody tr th:only-of-type {\n",
       "        vertical-align: middle;\n",
       "    }\n",
       "\n",
       "    .dataframe tbody tr th {\n",
       "        vertical-align: top;\n",
       "    }\n",
       "\n",
       "    .dataframe thead th {\n",
       "        text-align: right;\n",
       "    }\n",
       "</style>\n",
       "<table border=\"1\" class=\"dataframe\">\n",
       "  <thead>\n",
       "    <tr style=\"text-align: right;\">\n",
       "      <th></th>\n",
       "      <th>word</th>\n",
       "      <th>count</th>\n",
       "      <th>rel_freq</th>\n",
       "      <th>Cum_Sum_rel_freq</th>\n",
       "    </tr>\n",
       "  </thead>\n",
       "  <tbody>\n",
       "    <tr>\n",
       "      <th>0</th>\n",
       "      <td>said</td>\n",
       "      <td>628</td>\n",
       "      <td>0.014050</td>\n",
       "      <td>0.014050</td>\n",
       "    </tr>\n",
       "    <tr>\n",
       "      <th>1</th>\n",
       "      <td>million</td>\n",
       "      <td>383</td>\n",
       "      <td>0.008568</td>\n",
       "      <td>0.022618</td>\n",
       "    </tr>\n",
       "    <tr>\n",
       "      <th>2</th>\n",
       "      <td>new</td>\n",
       "      <td>328</td>\n",
       "      <td>0.007338</td>\n",
       "      <td>0.029956</td>\n",
       "    </tr>\n",
       "    <tr>\n",
       "      <th>3</th>\n",
       "      <td>company</td>\n",
       "      <td>260</td>\n",
       "      <td>0.005817</td>\n",
       "      <td>0.035773</td>\n",
       "    </tr>\n",
       "    <tr>\n",
       "      <th>4</th>\n",
       "      <td>says</td>\n",
       "      <td>217</td>\n",
       "      <td>0.004855</td>\n",
       "      <td>0.040627</td>\n",
       "    </tr>\n",
       "    <tr>\n",
       "      <th>...</th>\n",
       "      <td>...</td>\n",
       "      <td>...</td>\n",
       "      <td>...</td>\n",
       "      <td>...</td>\n",
       "    </tr>\n",
       "    <tr>\n",
       "      <th>636</th>\n",
       "      <td>software</td>\n",
       "      <td>14</td>\n",
       "      <td>0.000313</td>\n",
       "      <td>0.498736</td>\n",
       "    </tr>\n",
       "    <tr>\n",
       "      <th>637</th>\n",
       "      <td>aid</td>\n",
       "      <td>14</td>\n",
       "      <td>0.000313</td>\n",
       "      <td>0.499049</td>\n",
       "    </tr>\n",
       "    <tr>\n",
       "      <th>638</th>\n",
       "      <td>continuing</td>\n",
       "      <td>14</td>\n",
       "      <td>0.000313</td>\n",
       "      <td>0.499362</td>\n",
       "    </tr>\n",
       "    <tr>\n",
       "      <th>639</th>\n",
       "      <td>bad</td>\n",
       "      <td>14</td>\n",
       "      <td>0.000313</td>\n",
       "      <td>0.499676</td>\n",
       "    </tr>\n",
       "    <tr>\n",
       "      <th>640</th>\n",
       "      <td>david</td>\n",
       "      <td>14</td>\n",
       "      <td>0.000313</td>\n",
       "      <td>0.499989</td>\n",
       "    </tr>\n",
       "  </tbody>\n",
       "</table>\n",
       "<p>641 rows × 4 columns</p>\n",
       "</div>"
      ],
      "text/plain": [
       "           word  count  rel_freq  Cum_Sum_rel_freq\n",
       "0          said    628  0.014050          0.014050\n",
       "1       million    383  0.008568          0.022618\n",
       "2           new    328  0.007338          0.029956\n",
       "3       company    260  0.005817          0.035773\n",
       "4          says    217  0.004855          0.040627\n",
       "..          ...    ...       ...               ...\n",
       "636    software     14  0.000313          0.498736\n",
       "637         aid     14  0.000313          0.499049\n",
       "638  continuing     14  0.000313          0.499362\n",
       "639         bad     14  0.000313          0.499676\n",
       "640       david     14  0.000313          0.499989\n",
       "\n",
       "[641 rows x 4 columns]"
      ]
     },
     "execution_count": 70,
     "metadata": {},
     "output_type": "execute_result"
    }
   ],
   "source": [
    "freq50 =freq_words_all[:len(freq_words_all[freq_words_all['Cum_Sum_rel_freq']<0.5])]\n",
    "freq50"
   ]
  },
  {
   "cell_type": "code",
   "execution_count": 71,
   "id": "783620c9",
   "metadata": {},
   "outputs": [
    {
     "data": {
      "text/plain": [
       "641"
      ]
     },
     "execution_count": 71,
     "metadata": {},
     "output_type": "execute_result"
    }
   ],
   "source": [
    "len(freq50)"
   ]
  },
  {
   "cell_type": "markdown",
   "id": "42f74421",
   "metadata": {},
   "source": [
    "## Q4: Identify the 200 highest frequency words in this corpus."
   ]
  },
  {
   "cell_type": "code",
   "execution_count": 72,
   "id": "dd3eb0c6",
   "metadata": {},
   "outputs": [
    {
     "data": {
      "text/html": [
       "<div>\n",
       "<style scoped>\n",
       "    .dataframe tbody tr th:only-of-type {\n",
       "        vertical-align: middle;\n",
       "    }\n",
       "\n",
       "    .dataframe tbody tr th {\n",
       "        vertical-align: top;\n",
       "    }\n",
       "\n",
       "    .dataframe thead th {\n",
       "        text-align: right;\n",
       "    }\n",
       "</style>\n",
       "<table border=\"1\" class=\"dataframe\">\n",
       "  <thead>\n",
       "    <tr style=\"text-align: right;\">\n",
       "      <th></th>\n",
       "      <th>word</th>\n",
       "      <th>count</th>\n",
       "      <th>rel_freq</th>\n",
       "      <th>Cum_Sum_rel_freq</th>\n",
       "    </tr>\n",
       "  </thead>\n",
       "  <tbody>\n",
       "    <tr>\n",
       "      <th>0</th>\n",
       "      <td>said</td>\n",
       "      <td>628</td>\n",
       "      <td>0.014050</td>\n",
       "      <td>0.014050</td>\n",
       "    </tr>\n",
       "    <tr>\n",
       "      <th>1</th>\n",
       "      <td>million</td>\n",
       "      <td>383</td>\n",
       "      <td>0.008568</td>\n",
       "      <td>0.022618</td>\n",
       "    </tr>\n",
       "    <tr>\n",
       "      <th>2</th>\n",
       "      <td>new</td>\n",
       "      <td>328</td>\n",
       "      <td>0.007338</td>\n",
       "      <td>0.029956</td>\n",
       "    </tr>\n",
       "    <tr>\n",
       "      <th>3</th>\n",
       "      <td>company</td>\n",
       "      <td>260</td>\n",
       "      <td>0.005817</td>\n",
       "      <td>0.035773</td>\n",
       "    </tr>\n",
       "    <tr>\n",
       "      <th>4</th>\n",
       "      <td>says</td>\n",
       "      <td>217</td>\n",
       "      <td>0.004855</td>\n",
       "      <td>0.040627</td>\n",
       "    </tr>\n",
       "    <tr>\n",
       "      <th>...</th>\n",
       "      <td>...</td>\n",
       "      <td>...</td>\n",
       "      <td>...</td>\n",
       "      <td>...</td>\n",
       "    </tr>\n",
       "    <tr>\n",
       "      <th>195</th>\n",
       "      <td>operations</td>\n",
       "      <td>31</td>\n",
       "      <td>0.000694</td>\n",
       "      <td>0.292848</td>\n",
       "    </tr>\n",
       "    <tr>\n",
       "      <th>196</th>\n",
       "      <td>based</td>\n",
       "      <td>31</td>\n",
       "      <td>0.000694</td>\n",
       "      <td>0.293541</td>\n",
       "    </tr>\n",
       "    <tr>\n",
       "      <th>197</th>\n",
       "      <td>association</td>\n",
       "      <td>31</td>\n",
       "      <td>0.000694</td>\n",
       "      <td>0.294235</td>\n",
       "    </tr>\n",
       "    <tr>\n",
       "      <th>198</th>\n",
       "      <td>corporate</td>\n",
       "      <td>31</td>\n",
       "      <td>0.000694</td>\n",
       "      <td>0.294928</td>\n",
       "    </tr>\n",
       "    <tr>\n",
       "      <th>199</th>\n",
       "      <td>end</td>\n",
       "      <td>31</td>\n",
       "      <td>0.000694</td>\n",
       "      <td>0.295622</td>\n",
       "    </tr>\n",
       "  </tbody>\n",
       "</table>\n",
       "<p>200 rows × 4 columns</p>\n",
       "</div>"
      ],
      "text/plain": [
       "            word  count  rel_freq  Cum_Sum_rel_freq\n",
       "0           said    628  0.014050          0.014050\n",
       "1        million    383  0.008568          0.022618\n",
       "2            new    328  0.007338          0.029956\n",
       "3        company    260  0.005817          0.035773\n",
       "4           says    217  0.004855          0.040627\n",
       "..           ...    ...       ...               ...\n",
       "195   operations     31  0.000694          0.292848\n",
       "196        based     31  0.000694          0.293541\n",
       "197  association     31  0.000694          0.294235\n",
       "198    corporate     31  0.000694          0.294928\n",
       "199          end     31  0.000694          0.295622\n",
       "\n",
       "[200 rows x 4 columns]"
      ]
     },
     "execution_count": 72,
     "metadata": {},
     "output_type": "execute_result"
    }
   ],
   "source": [
    "top200=freq_words_all[:200]\n",
    "top200"
   ]
  },
  {
   "cell_type": "markdown",
   "id": "0238b417",
   "metadata": {},
   "source": [
    "## Q5: Create a graph that shows the relative frequency of these 200 words."
   ]
  },
  {
   "cell_type": "code",
   "execution_count": 73,
   "id": "3fcd5367",
   "metadata": {},
   "outputs": [
    {
     "data": {
      "image/png": "[encoded data removed]",
      "text/plain": [
       "<Figure size 432x288 with 1 Axes>"
      ]
     },
     "metadata": {
      "needs_background": "light"
     },
     "output_type": "display_data"
    }
   ],
   "source": [
    "sns.barplot(x=top200.word, y=top200.rel_freq)\n",
    "plt.rcParams[\"figure.figsize\"] = (200,50)"
   ]
  },
  {
   "cell_type": "markdown",
   "id": "bf0e802f",
   "metadata": {},
   "source": [
    "## Q6: Does the observed relative frequency of these words follow Zipf’s law? Explain.\n",
    "\n",
    "Zipf's Law is a mysterious relationship that describes the frequency of words. By looking at the relative frequencies of words in a large text, We found the word \"said\" had 628 counts, then the second word \"million\" and third word \"new\" had around 300 counts. And so, the frequency of words shows exponential decay, which explains the relation between the frequency of a set of objects and their size by Zipf's Law."
   ]
  },
  {
   "cell_type": "markdown",
   "id": "8f3a6328",
   "metadata": {},
   "source": [
    "## Q7: In what ways do you think the frequency of the words in this corpus differ from “all words in all corpora.”\n",
    "\n",
    "Based on Zipf's law, the frequency of the words in all corpora will show exponential decay in the frequency of words. However, the words might differ in the different corpus."
   ]
  }
 ],
 "metadata": {
  "kernelspec": {
   "display_name": "Python 3 (ipykernel)",
   "language": "python",
   "name": "python3"
  },
  "language_info": {
   "codemirror_mode": {
    "name": "ipython",
    "version": 3
   },
   "file_extension": ".py",
   "mimetype": "text/x-python",
   "name": "python",
   "nbconvert_exporter": "python",
   "pygments_lexer": "ipython3",
   "version": "3.9.12"
  }
 },
 "nbformat": 4,
 "nbformat_minor": 5
}
